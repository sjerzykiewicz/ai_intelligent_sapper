{
 "cells": [
  {
   "cell_type": "code",
   "execution_count": 56,
   "metadata": {},
   "outputs": [],
   "source": [
    "\n",
    "import numpy as np\n",
    "import torch\n",
    "import torch.nn as nn\n",
    "from torchvision import datasets, transforms\n",
    "import matplotlib.pyplot as plt\n",
    "\n",
    "from torch.utils.data.dataloader import DataLoader\n",
    "from torch.utils.data import random_split\n",
    "from torchvision.utils import make_grid"
   ]
  },
  {
   "cell_type": "code",
   "execution_count": 27,
   "metadata": {},
   "outputs": [],
   "source": [
    "torch.manual_seed(0)\n",
    "device=torch.device('cuda') if torch.cuda.is_available() else torch.device('cpu')"
   ]
  },
  {
   "cell_type": "code",
   "execution_count": 66,
   "metadata": {},
   "outputs": [],
   "source": [
    "def train(model, dataset, n_iter=100):\n",
    "    optimizer = torch.optim.SGD(model.parameters(), lr=0.01)\n",
    "    criterion = nn.NLLLoss()\n",
    "    model.train()\n",
    "    \n",
    "    for epoch in range(n_iter):\n",
    "        for images, targets in dataset:\n",
    "            optimizer.zero_grad()\n",
    "            images = images.view(images.size(0), -1)\n",
    "            out = model(images.to(device))\n",
    "            loss = criterion(out, targets.to(device))\n",
    "            loss.backward()\n",
    "            optimizer.step()\n",
    "        \n",
    "        if epoch % 10 == 0:\n",
    "            print('epoch: %3d loss: %.4f'%(epoch, loss))\n",
    "\n",
    "def accuracy(model, trainset):\n",
    "    model.eval()\n",
    "    correct = 0\n",
    "    for images, targets in trainset:\n",
    "        images = images.view(images.size(0), -1)\n",
    "        correct += (model(images.to(device)).argmax(dim=1)==targets.to(device)).sum()\n",
    "    return correct / len(trainset)"
   ]
  },
  {
   "cell_type": "code",
   "execution_count": 63,
   "metadata": {},
   "outputs": [
    {
     "name": "stdout",
     "output_type": "stream",
     "text": [
      "Length of Train Data : 500\n",
      "Length of Validation Data : 2500\n"
     ]
    }
   ],
   "source": [
    "data_dir = './trainset'\n",
    "dataset = datasets.ImageFolder(data_dir,transform = transforms.Compose([\n",
    "    transforms.Resize((100,100)),transforms.ToTensor()\n",
    "]))\n",
    "\n",
    "batch_size = 128\n",
    "val_size = 2500\n",
    "train_size = len(dataset) - val_size \n",
    "\n",
    "train_data,val_data = random_split(dataset,[train_size,val_size])\n",
    "print(f\"Length of Train Data : {len(train_data)}\")\n",
    "print(f\"Length of Validation Data : {len(val_data)}\")\n",
    "\n",
    "train_dl = DataLoader(train_data, batch_size, shuffle = True, num_workers = 4, pin_memory = True)\n",
    "val_dl = DataLoader(val_data, batch_size*2, num_workers = 4, pin_memory = True)"
   ]
  },
  {
   "cell_type": "code",
   "execution_count": null,
   "metadata": {},
   "outputs": [],
   "source": [
    "def show_batch(dl):\n",
    "    \"\"\"Plot images grid of single batch\"\"\"\n",
    "    for images, labels in dl:\n",
    "        fig,ax = plt.subplots(figsize = (16,12))\n",
    "        ax.set_xticks([])\n",
    "        ax.set_yticks([])\n",
    "        ax.imshow(make_grid(images,nrow=16).permute(1,2,0))\n",
    "        break\n",
    "        \n",
    "show_batch(train_dl)"
   ]
  },
  {
   "cell_type": "code",
   "execution_count": 64,
   "metadata": {},
   "outputs": [
    {
     "name": "stdout",
     "output_type": "stream",
     "text": [
      "epoch:   0 loss: 4.7417\n",
      "epoch:  10 loss: 1.1875\n",
      "epoch:  20 loss: 1.1186\n",
      "epoch:  30 loss: 1.1014\n",
      "epoch:  40 loss: 1.1168\n",
      "epoch:  50 loss: 1.0832\n",
      "epoch:  60 loss: 1.4307\n",
      "epoch:  70 loss: 1.0555\n",
      "epoch:  80 loss: 1.1263\n",
      "epoch:  90 loss: 1.1087\n"
     ]
    }
   ],
   "source": [
    "hidden_size=300\n",
    "\n",
    "model = nn.Sequential(\n",
    "    nn.Linear(100 * 100 * 3, hidden_size),\n",
    "    nn.ReLU(),\n",
    "    nn.Linear(hidden_size, 10), \n",
    "    nn.LogSoftmax(dim=-1)\n",
    ").to(device)\n",
    "train(model, train_dl)\n"
   ]
  },
  {
   "cell_type": "code",
   "execution_count": 67,
   "metadata": {},
   "outputs": [
    {
     "data": {
      "text/plain": [
       "tensor(83.3000)"
      ]
     },
     "execution_count": 67,
     "metadata": {},
     "output_type": "execute_result"
    }
   ],
   "source": [
    "accuracy(model, val_dl)"
   ]
  }
 ],
 "metadata": {
  "kernelspec": {
   "display_name": "Python 3",
   "language": "python",
   "name": "python3"
  },
  "language_info": {
   "codemirror_mode": {
    "name": "ipython",
    "version": 3
   },
   "file_extension": ".py",
   "mimetype": "text/x-python",
   "name": "python",
   "nbconvert_exporter": "python",
   "pygments_lexer": "ipython3",
   "version": "3.11.1"
  },
  "orig_nbformat": 4
 },
 "nbformat": 4,
 "nbformat_minor": 2
}
